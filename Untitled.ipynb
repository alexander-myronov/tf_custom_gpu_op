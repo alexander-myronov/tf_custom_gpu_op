{
 "cells": [
  {
   "cell_type": "code",
   "execution_count": 17,
   "metadata": {},
   "outputs": [],
   "source": [
    "import pickle\n",
    "import seaborn as sns\n",
    "import pandas  as pd\n",
    "import matplotlib.pyplot as plt"
   ]
  },
  {
   "cell_type": "code",
   "execution_count": 2,
   "metadata": {},
   "outputs": [],
   "source": [
    "results = pickle.load(open('results.pkl', 'rb'))"
   ]
  },
  {
   "cell_type": "code",
   "execution_count": 7,
   "metadata": {},
   "outputs": [
    {
     "data": {
      "text/html": [
       "<div>\n",
       "<style scoped>\n",
       "    .dataframe tbody tr th:only-of-type {\n",
       "        vertical-align: middle;\n",
       "    }\n",
       "\n",
       "    .dataframe tbody tr th {\n",
       "        vertical-align: top;\n",
       "    }\n",
       "\n",
       "    .dataframe thead th {\n",
       "        text-align: right;\n",
       "    }\n",
       "</style>\n",
       "<table border=\"1\" class=\"dataframe\">\n",
       "  <thead>\n",
       "    <tr style=\"text-align: right;\">\n",
       "      <th></th>\n",
       "      <th></th>\n",
       "      <th>time</th>\n",
       "    </tr>\n",
       "    <tr>\n",
       "      <th>size</th>\n",
       "      <th>method</th>\n",
       "      <th></th>\n",
       "    </tr>\n",
       "  </thead>\n",
       "  <tbody>\n",
       "    <tr>\n",
       "      <th rowspan=\"3\" valign=\"top\">256</th>\n",
       "      <th>CPU</th>\n",
       "      <td>0.044515</td>\n",
       "    </tr>\n",
       "    <tr>\n",
       "      <th>GPU Custom</th>\n",
       "      <td>0.671484</td>\n",
       "    </tr>\n",
       "    <tr>\n",
       "      <th>GPU TF</th>\n",
       "      <td>0.344048</td>\n",
       "    </tr>\n",
       "    <tr>\n",
       "      <th rowspan=\"3\" valign=\"top\">1024</th>\n",
       "      <th>CPU</th>\n",
       "      <td>0.175602</td>\n",
       "    </tr>\n",
       "    <tr>\n",
       "      <th>GPU Custom</th>\n",
       "      <td>2.571356</td>\n",
       "    </tr>\n",
       "    <tr>\n",
       "      <th>GPU TF</th>\n",
       "      <td>1.197345</td>\n",
       "    </tr>\n",
       "    <tr>\n",
       "      <th rowspan=\"3\" valign=\"top\">2048</th>\n",
       "      <th>CPU</th>\n",
       "      <td>0.353169</td>\n",
       "    </tr>\n",
       "    <tr>\n",
       "      <th>GPU Custom</th>\n",
       "      <td>5.150410</td>\n",
       "    </tr>\n",
       "    <tr>\n",
       "      <th>GPU TF</th>\n",
       "      <td>2.360061</td>\n",
       "    </tr>\n",
       "  </tbody>\n",
       "</table>\n",
       "</div>"
      ],
      "text/plain": [
       "                     time\n",
       "size method              \n",
       "256  CPU         0.044515\n",
       "     GPU Custom  0.671484\n",
       "     GPU TF      0.344048\n",
       "1024 CPU         0.175602\n",
       "     GPU Custom  2.571356\n",
       "     GPU TF      1.197345\n",
       "2048 CPU         0.353169\n",
       "     GPU Custom  5.150410\n",
       "     GPU TF      2.360061"
      ]
     },
     "execution_count": 7,
     "metadata": {},
     "output_type": "execute_result"
    }
   ],
   "source": [
    "pd.DataFrame(results).groupby(['size', 'method']).agg('mean')"
   ]
  },
  {
   "cell_type": "code",
   "execution_count": 20,
   "metadata": {},
   "outputs": [
    {
     "data": {
      "image/png": "[encoded data removed]",
      "text/plain": [
       "<Figure size 576x576 with 1 Axes>"
      ]
     },
     "metadata": {
      "needs_background": "light"
     },
     "output_type": "display_data"
    }
   ],
   "source": [
    "sns.catplot(x='size', hue='method', y='time', data=pd.DataFrame(results), kind='bar', ci=95, n_boot=100)\n",
    "\n",
    "plt.gcf().set_size_inches(8, 8)\n",
    "plt.title('Performance analysis', fontsize=18)\n",
    "plt.savefig('perf.png')"
   ]
  },
  {
   "cell_type": "code",
   "execution_count": null,
   "metadata": {},
   "outputs": [],
   "source": []
  }
 ],
 "metadata": {
  "kernelspec": {
   "display_name": "Python (tf_gpu)",
   "language": "python",
   "name": "tf_gpu"
  },
  "language_info": {
   "codemirror_mode": {
    "name": "ipython",
    "version": 3
   },
   "file_extension": ".py",
   "mimetype": "text/x-python",
   "name": "python",
   "nbconvert_exporter": "python",
   "pygments_lexer": "ipython3",
   "version": "3.6.8"
  }
 },
 "nbformat": 4,
 "nbformat_minor": 2
}
